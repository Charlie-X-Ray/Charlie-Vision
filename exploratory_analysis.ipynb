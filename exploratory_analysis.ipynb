{
 "cells": [
  {
   "cell_type": "code",
   "execution_count": 2,
   "metadata": {},
   "outputs": [
    {
     "name": "stdout",
     "output_type": "stream",
     "text": [
      "Warning: Your Kaggle API key is readable by other users on this system! To fix this, you can run 'chmod 600 /home/yjunteng/.kaggle/kaggle.json'\n",
      "Downloading vinbigdata-chest-xray-abnormalities-detection.zip to /home/yjunteng/Charlie-Vision\n",
      " 19%|██████▉                              | 26.5G/142G [37:56<2:32:08, 13.5MB/s]"
     ]
    }
   ],
   "source": [
    "!/home/yjunteng/.local/bin/kaggle competitions download -c vinbigdata-chest-xray-abnormalities-detection"
   ]
  },
  {
   "cell_type": "code",
   "execution_count": 2,
   "metadata": {},
   "outputs": [
    {
     "name": "stdout",
     "output_type": "stream",
     "text": [
      "Collecting kaggle\n",
      "  Using cached kaggle-1.5.13.tar.gz (63 kB)\n",
      "  Preparing metadata (setup.py) ... \u001b[?25ldone\n",
      "\u001b[?25hRequirement already satisfied: six>=1.10 in /home/yjunteng/anaconda3/lib/python3.9/site-packages (from kaggle) (1.16.0)\n",
      "Requirement already satisfied: certifi in /home/yjunteng/anaconda3/lib/python3.9/site-packages (from kaggle) (2022.9.14)\n",
      "Requirement already satisfied: python-dateutil in /home/yjunteng/anaconda3/lib/python3.9/site-packages (from kaggle) (2.8.2)\n",
      "Requirement already satisfied: requests in /home/yjunteng/anaconda3/lib/python3.9/site-packages (from kaggle) (2.28.1)\n",
      "Requirement already satisfied: tqdm in /home/yjunteng/anaconda3/lib/python3.9/site-packages (from kaggle) (4.64.1)\n",
      "Requirement already satisfied: python-slugify in /home/yjunteng/anaconda3/lib/python3.9/site-packages (from kaggle) (5.0.2)\n",
      "Requirement already satisfied: urllib3 in /home/yjunteng/anaconda3/lib/python3.9/site-packages (from kaggle) (1.26.11)\n",
      "Requirement already satisfied: text-unidecode>=1.3 in /home/yjunteng/anaconda3/lib/python3.9/site-packages (from python-slugify->kaggle) (1.3)\n",
      "Requirement already satisfied: idna<4,>=2.5 in /home/yjunteng/anaconda3/lib/python3.9/site-packages (from requests->kaggle) (3.3)\n",
      "Requirement already satisfied: charset-normalizer<3,>=2 in /home/yjunteng/anaconda3/lib/python3.9/site-packages (from requests->kaggle) (2.0.4)\n",
      "Building wheels for collected packages: kaggle\n",
      "  Building wheel for kaggle (setup.py) ... \u001b[?25ldone\n",
      "\u001b[?25h  Created wheel for kaggle: filename=kaggle-1.5.13-py3-none-any.whl size=77717 sha256=abe8cd8408aa57760c07ba5e3c1bdfee10f047a650d13c409942e48dc5c5455f\n",
      "  Stored in directory: /home/yjunteng/.cache/pip/wheels/9c/45/15/6d6d116cd2539fb8f450d64b0aee4a480e5366bb11b42ac763\n",
      "Successfully built kaggle\n",
      "Installing collected packages: kaggle\n",
      "\u001b[33m  WARNING: The script kaggle is installed in '/home/yjunteng/.local/bin' which is not on PATH.\n",
      "  Consider adding this directory to PATH or, if you prefer to suppress this warning, use --no-warn-script-location.\u001b[0m\u001b[33m\n",
      "\u001b[0mSuccessfully installed kaggle-1.5.13\n",
      "Note: you may need to restart the kernel to use updated packages.\n"
     ]
    }
   ],
   "source": [
    "%pip install --user kaggle"
   ]
  },
  {
   "cell_type": "code",
   "execution_count": 6,
   "metadata": {},
   "outputs": [],
   "source": [
    "import pandas as pd\n",
    "import os\n",
    "from os.path import join\n",
    "\n",
    "DATASET_FOLDER = r'..\\datasets\\vinbigdata-chest-xray-abnormalities-detection'\n",
    "TRAIN_FILE = join(DATASET_FOLDER, 'train.csv')\n",
    "TRAIN_FOLDER = join(DATASET_FOLDER, 'train')\n"
   ]
  },
  {
   "cell_type": "code",
   "execution_count": 8,
   "metadata": {},
   "outputs": [
    {
     "data": {
      "text/html": [
       "<div>\n",
       "<style scoped>\n",
       "    .dataframe tbody tr th:only-of-type {\n",
       "        vertical-align: middle;\n",
       "    }\n",
       "\n",
       "    .dataframe tbody tr th {\n",
       "        vertical-align: top;\n",
       "    }\n",
       "\n",
       "    .dataframe thead th {\n",
       "        text-align: right;\n",
       "    }\n",
       "</style>\n",
       "<table border=\"1\" class=\"dataframe\">\n",
       "  <thead>\n",
       "    <tr style=\"text-align: right;\">\n",
       "      <th></th>\n",
       "      <th>image_id</th>\n",
       "      <th>class_name</th>\n",
       "      <th>class_id</th>\n",
       "      <th>rad_id</th>\n",
       "      <th>x_min</th>\n",
       "      <th>y_min</th>\n",
       "      <th>x_max</th>\n",
       "      <th>y_max</th>\n",
       "    </tr>\n",
       "  </thead>\n",
       "  <tbody>\n",
       "    <tr>\n",
       "      <th>0</th>\n",
       "      <td>50a418190bc3fb1ef1633bf9678929b3</td>\n",
       "      <td>No finding</td>\n",
       "      <td>14</td>\n",
       "      <td>R11</td>\n",
       "      <td>NaN</td>\n",
       "      <td>NaN</td>\n",
       "      <td>NaN</td>\n",
       "      <td>NaN</td>\n",
       "    </tr>\n",
       "    <tr>\n",
       "      <th>1</th>\n",
       "      <td>21a10246a5ec7af151081d0cd6d65dc9</td>\n",
       "      <td>No finding</td>\n",
       "      <td>14</td>\n",
       "      <td>R7</td>\n",
       "      <td>NaN</td>\n",
       "      <td>NaN</td>\n",
       "      <td>NaN</td>\n",
       "      <td>NaN</td>\n",
       "    </tr>\n",
       "    <tr>\n",
       "      <th>2</th>\n",
       "      <td>9a5094b2563a1ef3ff50dc5c7ff71345</td>\n",
       "      <td>Cardiomegaly</td>\n",
       "      <td>3</td>\n",
       "      <td>R10</td>\n",
       "      <td>691.0</td>\n",
       "      <td>1375.0</td>\n",
       "      <td>1653.0</td>\n",
       "      <td>1831.0</td>\n",
       "    </tr>\n",
       "    <tr>\n",
       "      <th>3</th>\n",
       "      <td>051132a778e61a86eb147c7c6f564dfe</td>\n",
       "      <td>Aortic enlargement</td>\n",
       "      <td>0</td>\n",
       "      <td>R10</td>\n",
       "      <td>1264.0</td>\n",
       "      <td>743.0</td>\n",
       "      <td>1611.0</td>\n",
       "      <td>1019.0</td>\n",
       "    </tr>\n",
       "    <tr>\n",
       "      <th>4</th>\n",
       "      <td>063319de25ce7edb9b1c6b8881290140</td>\n",
       "      <td>No finding</td>\n",
       "      <td>14</td>\n",
       "      <td>R10</td>\n",
       "      <td>NaN</td>\n",
       "      <td>NaN</td>\n",
       "      <td>NaN</td>\n",
       "      <td>NaN</td>\n",
       "    </tr>\n",
       "  </tbody>\n",
       "</table>\n",
       "</div>"
      ],
      "text/plain": [
       "                           image_id          class_name  class_id rad_id  \\\n",
       "0  50a418190bc3fb1ef1633bf9678929b3          No finding        14    R11   \n",
       "1  21a10246a5ec7af151081d0cd6d65dc9          No finding        14     R7   \n",
       "2  9a5094b2563a1ef3ff50dc5c7ff71345        Cardiomegaly         3    R10   \n",
       "3  051132a778e61a86eb147c7c6f564dfe  Aortic enlargement         0    R10   \n",
       "4  063319de25ce7edb9b1c6b8881290140          No finding        14    R10   \n",
       "\n",
       "    x_min   y_min   x_max   y_max  \n",
       "0     NaN     NaN     NaN     NaN  \n",
       "1     NaN     NaN     NaN     NaN  \n",
       "2   691.0  1375.0  1653.0  1831.0  \n",
       "3  1264.0   743.0  1611.0  1019.0  \n",
       "4     NaN     NaN     NaN     NaN  "
      ]
     },
     "execution_count": 8,
     "metadata": {},
     "output_type": "execute_result"
    }
   ],
   "source": [
    "df = pd.read_csv(TRAIN_FILE)\n",
    "df.head()"
   ]
  },
  {
   "attachments": {},
   "cell_type": "markdown",
   "metadata": {},
   "source": [
    "Retrieveing the first **n** unique image_ids with findings (default to n = 20)"
   ]
  },
  {
   "cell_type": "code",
   "execution_count": 41,
   "metadata": {},
   "outputs": [
    {
     "name": "stdout",
     "output_type": "stream",
     "text": [
      "9a5094b2563a1ef3ff50dc5c7ff71345\n",
      "051132a778e61a86eb147c7c6f564dfe\n",
      "1c32170b4af4ce1a3030eb8167753b06\n",
      "0c7a38f293d5f5e4846aa4ca6db4daf1\n",
      "47ed17dcb2cbeec15182ed335a8b5a9e\n"
     ]
    }
   ],
   "source": [
    "n = 20\n",
    "unique_ids = df[df['class_name'] != 'No finding'].loc[:,'image_id'].unique()[:n]\n",
    "for id in unique_ids[:5]:\n",
    "    print(id)"
   ]
  },
  {
   "cell_type": "code",
   "execution_count": 52,
   "metadata": {},
   "outputs": [
    {
     "name": "stdout",
     "output_type": "stream",
     "text": [
      "[{'image_id': '9a5094b2563a1ef3ff50dc5c7ff71345', 'coords': [{'class_name': 'Cardiomegaly', 'class_id': 3, 'x0': 691.0, 'x1': 1375.0, 'y0': 1653.0, 'y1': 1831.0}, {'class_name': 'Pleural effusion', 'class_id': 10, 'x0': 1789.0, 'x1': 1729.0, 'y0': 1875.0, 'y1': 1992.0}, {'class_name': 'Pleural thickening', 'class_id': 11, 'x0': 1789.0, 'x1': 1729.0, 'y0': 1875.0, 'y1': 1992.0}, {'class_name': 'Cardiomegaly', 'class_id': 3, 'x0': 692.0, 'x1': 1375.0, 'y0': 1657.0, 'y1': 1799.0}, {'class_name': 'Cardiomegaly', 'class_id': 3, 'x0': 689.0, 'x1': 1313.0, 'y0': 1666.0, 'y1': 1763.0}, {'class_name': 'Aortic enlargement', 'class_id': 0, 'x0': 1052.0, 'x1': 715.0, 'y0': 1299.0, 'y1': 966.0}]}, {'image_id': '051132a778e61a86eb147c7c6f564dfe', 'coords': [{'class_name': 'Aortic enlargement', 'class_id': 0, 'x0': 1264.0, 'x1': 743.0, 'y0': 1611.0, 'y1': 1019.0}, {'class_name': 'Aortic enlargement', 'class_id': 0, 'x0': 1305.0, 'x1': 731.0, 'y0': 1613.0, 'y1': 1066.0}, {'class_name': 'Cardiomegaly', 'class_id': 3, 'x0': 948.0, 'x1': 1267.0, 'y0': 2063.0, 'y1': 1672.0}, {'class_name': 'Cardiomegaly', 'class_id': 3, 'x0': 962.0, 'x1': 1331.0, 'y0': 2035.0, 'y1': 1624.0}, {'class_name': 'Pleural thickening', 'class_id': 11, 'x0': 1592.0, 'x1': 452.0, 'y0': 1804.0, 'y1': 604.0}, {'class_name': 'Aortic enlargement', 'class_id': 0, 'x0': 1275.0, 'x1': 729.0, 'y0': 1612.0, 'y1': 1066.0}, {'class_name': 'Cardiomegaly', 'class_id': 3, 'x0': 952.0, 'x1': 1317.0, 'y0': 2033.0, 'y1': 1723.0}]}, {'image_id': '1c32170b4af4ce1a3030eb8167753b06', 'coords': [{'class_name': 'Pleural thickening', 'class_id': 11, 'x0': 627.0, 'x1': 357.0, 'y0': 947.0, 'y1': 433.0}, {'class_name': 'Pulmonary fibrosis', 'class_id': 13, 'x0': 511.0, 'x1': 508.0, 'y0': 950.0, 'y1': 762.0}, {'class_name': 'Pleural thickening', 'class_id': 11, 'x0': 1780.0, 'x1': 361.0, 'y0': 2047.0, 'y1': 612.0}, {'class_name': 'Pulmonary fibrosis', 'class_id': 13, 'x0': 1793.0, 'x1': 757.0, 'y0': 1972.0, 'y1': 917.0}, {'class_name': 'Pulmonary fibrosis', 'class_id': 13, 'x0': 1684.0, 'x1': 450.0, 'y0': 1916.0, 'y1': 739.0}, {'class_name': 'Pulmonary fibrosis', 'class_id': 13, 'x0': 549.0, 'x1': 456.0, 'y0': 910.0, 'y1': 801.0}, {'class_name': 'Pleural thickening', 'class_id': 11, 'x0': 1856.0, 'x1': 412.0, 'y0': 2045.0, 'y1': 587.0}, {'class_name': 'Pulmonary fibrosis', 'class_id': 13, 'x0': 529.0, 'x1': 440.0, 'y0': 771.0, 'y1': 741.0}, {'class_name': 'Pulmonary fibrosis', 'class_id': 13, 'x0': 1734.0, 'x1': 545.0, 'y0': 1887.0, 'y1': 747.0}]}, {'image_id': '0c7a38f293d5f5e4846aa4ca6db4daf1', 'coords': [{'class_name': 'ILD', 'class_id': 5, 'x0': 1347.0, 'x1': 245.0, 'y0': 2188.0, 'y1': 2169.0}, {'class_name': 'ILD', 'class_id': 5, 'x0': 87.0, 'x1': 196.0, 'y0': 1013.0, 'y1': 2129.0}, {'class_name': 'Nodule/Mass', 'class_id': 8, 'x0': 458.0, 'x1': 792.0, 'y0': 669.0, 'y1': 962.0}, {'class_name': 'ILD', 'class_id': 5, 'x0': 161.0, 'x1': 56.0, 'y0': 2117.0, 'y1': 2213.0}, {'class_name': 'Other lesion', 'class_id': 9, 'x0': 161.0, 'x1': 56.0, 'y0': 2117.0, 'y1': 2213.0}]}, {'image_id': '47ed17dcb2cbeec15182ed335a8b5a9e', 'coords': [{'class_name': 'Nodule/Mass', 'class_id': 8, 'x0': 557.0, 'x1': 2352.0, 'y0': 675.0, 'y1': 2484.0}, {'class_name': 'Other lesion', 'class_id': 9, 'x0': 557.0, 'x1': 2352.0, 'y0': 675.0, 'y1': 2484.0}, {'class_name': 'Nodule/Mass', 'class_id': 8, 'x0': 544.0, 'x1': 2345.0, 'y0': 674.0, 'y1': 2485.0}, {'class_name': 'Other lesion', 'class_id': 9, 'x0': 1715.0, 'x1': 906.0, 'y0': 2054.0, 'y1': 1387.0}, {'class_name': 'Other lesion', 'class_id': 9, 'x0': 1723.0, 'x1': 983.0, 'y0': 2048.0, 'y1': 1398.0}, {'class_name': 'Nodule/Mass', 'class_id': 8, 'x0': 562.0, 'x1': 2346.0, 'y0': 663.0, 'y1': 2460.0}, {'class_name': 'Lung Opacity', 'class_id': 7, 'x0': 327.0, 'x1': 937.0, 'y0': 1231.0, 'y1': 2739.0}, {'class_name': 'Lung Opacity', 'class_id': 7, 'x0': 254.0, 'x1': 812.0, 'y0': 1193.0, 'y1': 2978.0}]}, {'image_id': 'd3637a1935a905b3c326af31389cb846', 'coords': [{'class_name': 'Aortic enlargement', 'class_id': 0, 'x0': 1329.0, 'x1': 743.0, 'y0': 1521.0, 'y1': 958.0}, {'class_name': 'Pulmonary fibrosis', 'class_id': 13, 'x0': 1842.0, 'x1': 1042.0, 'y0': 2108.0, 'y1': 1153.0}, {'class_name': 'Pleural thickening', 'class_id': 11, 'x0': 496.0, 'x1': 325.0, 'y0': 1036.0, 'y1': 709.0}, {'class_name': 'Nodule/Mass', 'class_id': 8, 'x0': 501.0, 'x1': 1813.0, 'y0': 569.0, 'y1': 1865.0}, {'class_name': 'Pulmonary fibrosis', 'class_id': 13, 'x0': 559.0, 'x1': 496.0, 'y0': 1041.0, 'y1': 1137.0}, {'class_name': 'Pulmonary fibrosis', 'class_id': 13, 'x0': 1838.0, 'x1': 1004.0, 'y0': 2076.0, 'y1': 1195.0}, {'class_name': 'Pleural thickening', 'class_id': 11, 'x0': 533.0, 'x1': 350.0, 'y0': 912.0, 'y1': 674.0}, {'class_name': 'Pulmonary fibrosis', 'class_id': 13, 'x0': 559.0, 'x1': 492.0, 'y0': 1052.0, 'y1': 1316.0}, {'class_name': 'Nodule/Mass', 'class_id': 8, 'x0': 536.0, 'x1': 1761.0, 'y0': 579.0, 'y1': 1790.0}, {'class_name': 'Nodule/Mass', 'class_id': 8, 'x0': 558.0, 'x1': 1856.0, 'y0': 612.0, 'y1': 1902.0}, {'class_name': 'Pulmonary fibrosis', 'class_id': 13, 'x0': 559.0, 'x1': 622.0, 'y0': 961.0, 'y1': 1145.0}]}, {'image_id': 'afb6230703512afc370f236e8fe98806', 'coords': [{'class_name': 'Pulmonary fibrosis', 'class_id': 13, 'x0': 1857.0, 'x1': 1607.0, 'y0': 2126.0, 'y1': 2036.0}, {'class_name': 'Lung Opacity', 'class_id': 7, 'x0': 486.0, 'x1': 1594.0, 'y0': 1002.0, 'y1': 1918.0}, {'class_name': 'ILD', 'class_id': 5, 'x0': 494.0, 'x1': 1385.0, 'y0': 1148.0, 'y1': 1919.0}, {'class_name': 'Aortic enlargement', 'class_id': 0, 'x0': 1331.0, 'x1': 762.0, 'y0': 1653.0, 'y1': 1081.0}, {'class_name': 'ILD', 'class_id': 5, 'x0': 488.0, 'x1': 1602.0, 'y0': 1093.0, 'y1': 1931.0}, {'class_name': 'Pulmonary fibrosis', 'class_id': 13, 'x0': 1870.0, 'x1': 1591.0, 'y0': 2107.0, 'y1': 1990.0}, {'class_name': 'Pulmonary fibrosis', 'class_id': 13, 'x0': 486.0, 'x1': 1594.0, 'y0': 1002.0, 'y1': 1918.0}, {'class_name': 'Lung Opacity', 'class_id': 7, 'x0': 1857.0, 'x1': 1607.0, 'y0': 2126.0, 'y1': 2036.0}, {'class_name': 'ILD', 'class_id': 5, 'x0': 1870.0, 'x1': 1591.0, 'y0': 2107.0, 'y1': 1990.0}, {'class_name': 'Aortic enlargement', 'class_id': 0, 'x0': 1352.0, 'x1': 742.0, 'y0': 1648.0, 'y1': 1129.0}, {'class_name': 'Other lesion', 'class_id': 9, 'x0': 1870.0, 'x1': 1591.0, 'y0': 2107.0, 'y1': 1990.0}, {'class_name': 'Other lesion', 'class_id': 9, 'x0': 488.0, 'x1': 1602.0, 'y0': 1093.0, 'y1': 1931.0}, {'class_name': 'Pulmonary fibrosis', 'class_id': 13, 'x0': 488.0, 'x1': 1602.0, 'y0': 1093.0, 'y1': 1931.0}, {'class_name': 'Infiltration', 'class_id': 6, 'x0': 1912.0, 'x1': 1638.0, 'y0': 2169.0, 'y1': 2032.0}, {'class_name': 'Aortic enlargement', 'class_id': 0, 'x0': 1346.0, 'x1': 755.0, 'y0': 1654.0, 'y1': 1065.0}, {'class_name': 'ILD', 'class_id': 5, 'x0': 1912.0, 'x1': 1638.0, 'y0': 2169.0, 'y1': 2032.0}, {'class_name': 'Infiltration', 'class_id': 6, 'x0': 494.0, 'x1': 1385.0, 'y0': 1148.0, 'y1': 1919.0}]}, {'image_id': '7c1add6833d5f0102b0d3619a1682a64', 'coords': [{'class_name': 'Lung Opacity', 'class_id': 7, 'x0': 600.0, 'x1': 1332.0, 'y0': 903.0, 'y1': 1523.0}, {'class_name': 'Pleural effusion', 'class_id': 10, 'x0': 357.0, 'x1': 781.0, 'y0': 1323.0, 'y1': 2421.0}, {'class_name': 'Lung Opacity', 'class_id': 7, 'x0': 585.0, 'x1': 1296.0, 'y0': 1010.0, 'y1': 1600.0}, {'class_name': 'Pleural effusion', 'class_id': 10, 'x0': 384.0, 'x1': 814.0, 'y0': 1333.0, 'y1': 2376.0}, {'class_name': 'Pleural effusion', 'class_id': 10, 'x0': 281.0, 'x1': 739.0, 'y0': 1242.0, 'y1': 2281.0}, {'class_name': 'Consolidation', 'class_id': 4, 'x0': 585.0, 'x1': 1296.0, 'y0': 1010.0, 'y1': 1600.0}]}, {'image_id': '18a61a07e6f5f13ebfee57fa36cd8b6f', 'coords': [{'class_name': 'Pulmonary fibrosis', 'class_id': 13, 'x0': 393.0, 'x1': 283.0, 'y0': 822.0, 'y1': 643.0}, {'class_name': 'Calcification', 'class_id': 2, 'x0': 380.0, 'x1': 278.0, 'y0': 787.0, 'y1': 612.0}, {'class_name': 'Consolidation', 'class_id': 4, 'x0': 393.0, 'x1': 486.0, 'y0': 526.0, 'y1': 591.0}, {'class_name': 'Pulmonary fibrosis', 'class_id': 13, 'x0': 380.0, 'x1': 278.0, 'y0': 787.0, 'y1': 612.0}, {'class_name': 'Pleural thickening', 'class_id': 11, 'x0': 463.0, 'x1': 229.0, 'y0': 793.0, 'y1': 294.0}, {'class_name': 'Calcification', 'class_id': 2, 'x0': 393.0, 'x1': 283.0, 'y0': 822.0, 'y1': 643.0}, {'class_name': 'Nodule/Mass', 'class_id': 8, 'x0': 393.0, 'x1': 486.0, 'y0': 526.0, 'y1': 591.0}, {'class_name': 'Pleural thickening', 'class_id': 11, 'x0': 348.0, 'x1': 254.0, 'y0': 750.0, 'y1': 387.0}, {'class_name': 'Pulmonary fibrosis', 'class_id': 13, 'x0': 356.0, 'x1': 296.0, 'y0': 803.0, 'y1': 610.0}, {'class_name': 'Pleural thickening', 'class_id': 11, 'x0': 417.0, 'x1': 238.0, 'y0': 810.0, 'y1': 370.0}]}, {'image_id': '321c111713c3ee5385db0effb54ff568', 'coords': [{'class_name': 'Aortic enlargement', 'class_id': 0, 'x0': 1292.0, 'x1': 554.0, 'y0': 1477.0, 'y1': 805.0}, {'class_name': 'Nodule/Mass', 'class_id': 8, 'x0': 1748.0, 'x1': 669.0, 'y0': 1872.0, 'y1': 754.0}, {'class_name': 'Calcification', 'class_id': 2, 'x0': 1754.0, 'x1': 666.0, 'y0': 1859.0, 'y1': 744.0}, {'class_name': 'Pulmonary fibrosis', 'class_id': 13, 'x0': 1748.0, 'x1': 669.0, 'y0': 1872.0, 'y1': 754.0}, {'class_name': 'Nodule/Mass', 'class_id': 8, 'x0': 1758.0, 'x1': 664.0, 'y0': 1863.0, 'y1': 752.0}]}, {'image_id': '80caa435b6ab5edaff4a0a758ffaec6e', 'coords': [{'class_name': 'Atelectasis', 'class_id': 1, 'x0': 331.0, 'x1': 462.0, 'y0': 1384.0, 'y1': 2365.0}, {'class_name': 'Lung Opacity', 'class_id': 7, 'x0': 390.0, 'x1': 857.0, 'y0': 783.0, 'y1': 1908.0}, {'class_name': 'Pleural thickening', 'class_id': 11, 'x0': 2132.0, 'x1': 438.0, 'y0': 2395.0, 'y1': 762.0}, {'class_name': 'Pleural effusion', 'class_id': 10, 'x0': 415.0, 'x1': 1812.0, 'y0': 1240.0, 'y1': 2317.0}, {'class_name': 'Calcification', 'class_id': 2, 'x0': 1730.0, 'x1': 487.0, 'y0': 2136.0, 'y1': 804.0}, {'class_name': 'Consolidation', 'class_id': 4, 'x0': 771.0, 'x1': 800.0, 'y0': 1353.0, 'y1': 1958.0}, {'class_name': 'Lung Opacity', 'class_id': 7, 'x0': 547.0, 'x1': 1814.0, 'y0': 1116.0, 'y1': 2147.0}, {'class_name': 'Atelectasis', 'class_id': 1, 'x0': 723.0, 'x1': 393.0, 'y0': 1202.0, 'y1': 1400.0}, {'class_name': 'Calcification', 'class_id': 2, 'x0': 507.0, 'x1': 1220.0, 'y0': 765.0, 'y1': 1843.0}, {'class_name': 'Pleural effusion', 'class_id': 10, 'x0': 389.0, 'x1': 1919.0, 'y0': 1049.0, 'y1': 2498.0}, {'class_name': 'Atelectasis', 'class_id': 1, 'x0': 642.0, 'x1': 279.0, 'y0': 1181.0, 'y1': 874.0}, {'class_name': 'Nodule/Mass', 'class_id': 8, 'x0': 2321.0, 'x1': 1584.0, 'y0': 2413.0, 'y1': 1675.0}, {'class_name': 'Pleural effusion', 'class_id': 10, 'x0': 331.0, 'x1': 462.0, 'y0': 1384.0, 'y1': 2365.0}, {'class_name': 'Nodule/Mass', 'class_id': 8, 'x0': 527.0, 'x1': 1697.0, 'y0': 640.0, 'y1': 1810.0}, {'class_name': 'Atelectasis', 'class_id': 1, 'x0': 1855.0, 'x1': 319.0, 'y0': 2353.0, 'y1': 812.0}, {'class_name': 'Calcification', 'class_id': 2, 'x0': 518.0, 'x1': 1188.0, 'y0': 787.0, 'y1': 1781.0}, {'class_name': 'Lung Opacity', 'class_id': 7, 'x0': 643.0, 'x1': 314.0, 'y0': 1273.0, 'y1': 972.0}, {'class_name': 'Nodule/Mass', 'class_id': 8, 'x0': 2305.0, 'x1': 1564.0, 'y0': 2401.0, 'y1': 1689.0}, {'class_name': 'Pulmonary fibrosis', 'class_id': 13, 'x0': 1744.0, 'x1': 504.0, 'y0': 2242.0, 'y1': 1018.0}, {'class_name': 'Lung Opacity', 'class_id': 7, 'x0': 331.0, 'x1': 462.0, 'y0': 1384.0, 'y1': 2365.0}, {'class_name': 'Pulmonary fibrosis', 'class_id': 13, 'x0': 1730.0, 'x1': 487.0, 'y0': 2136.0, 'y1': 804.0}, {'class_name': 'Pulmonary fibrosis', 'class_id': 13, 'x0': 1732.0, 'x1': 372.0, 'y0': 2308.0, 'y1': 1120.0}, {'class_name': 'Lung Opacity', 'class_id': 7, 'x0': 1732.0, 'x1': 372.0, 'y0': 2308.0, 'y1': 1120.0}, {'class_name': 'Pulmonary fibrosis', 'class_id': 13, 'x0': 1875.0, 'x1': 659.0, 'y0': 2335.0, 'y1': 1084.0}, {'class_name': 'Calcification', 'class_id': 2, 'x0': 1777.0, 'x1': 510.0, 'y0': 2176.0, 'y1': 810.0}, {'class_name': 'Calcification', 'class_id': 2, 'x0': 2300.0, 'x1': 1561.0, 'y0': 2403.0, 'y1': 1690.0}, {'class_name': 'Pulmonary fibrosis', 'class_id': 13, 'x0': 518.0, 'x1': 1029.0, 'y0': 902.0, 'y1': 1481.0}, {'class_name': 'Pulmonary fibrosis', 'class_id': 13, 'x0': 547.0, 'x1': 1814.0, 'y0': 1116.0, 'y1': 2147.0}]}, {'image_id': '5da264775732004f1b724b660138854a', 'coords': [{'class_name': 'Aortic enlargement', 'class_id': 0, 'x0': 1635.0, 'x1': 673.0, 'y0': 1978.0, 'y1': 1151.0}, {'class_name': 'Cardiomegaly', 'class_id': 3, 'x0': 1201.0, 'x1': 1695.0, 'y0': 2468.0, 'y1': 2126.0}, {'class_name': 'Cardiomegaly', 'class_id': 3, 'x0': 1193.0, 'x1': 1657.0, 'y0': 2512.0, 'y1': 2143.0}, {'class_name': 'Aortic enlargement', 'class_id': 0, 'x0': 1725.0, 'x1': 690.0, 'y0': 1937.0, 'y1': 1065.0}, {'class_name': 'Aortic enlargement', 'class_id': 0, 'x0': 1621.0, 'x1': 687.0, 'y0': 1964.0, 'y1': 1143.0}, {'class_name': 'Cardiomegaly', 'class_id': 3, 'x0': 1195.0, 'x1': 1619.0, 'y0': 2486.0, 'y1': 2129.0}]}, {'image_id': 'fb8e11c6b2886b2d41b379e0598669b9', 'coords': [{'class_name': 'Aortic enlargement', 'class_id': 0, 'x0': 1390.0, 'x1': 878.0, 'y0': 1616.0, 'y1': 1163.0}, {'class_name': 'Pleural effusion', 'class_id': 10, 'x0': 1941.0, 'x1': 1896.0, 'y0': 2112.0, 'y1': 2103.0}, {'class_name': 'Lung Opacity', 'class_id': 7, 'x0': 597.0, 'x1': 1445.0, 'y0': 933.0, 'y1': 1756.0}, {'class_name': 'Consolidation', 'class_id': 4, 'x0': 649.0, 'x1': 869.0, 'y0': 833.0, 'y1': 1021.0}, {'class_name': 'Pleural thickening', 'class_id': 11, 'x0': 677.0, 'x1': 458.0, 'y0': 1055.0, 'y1': 619.0}, {'class_name': 'Nodule/Mass', 'class_id': 8, 'x0': 663.0, 'x1': 899.0, 'y0': 793.0, 'y1': 1025.0}, {'class_name': 'Lung Opacity', 'class_id': 7, 'x0': 663.0, 'x1': 899.0, 'y0': 793.0, 'y1': 1025.0}, {'class_name': 'Pleural thickening', 'class_id': 11, 'x0': 222.0, 'x1': 1658.0, 'y0': 390.0, 'y1': 1959.0}, {'class_name': 'Pleural thickening', 'class_id': 11, 'x0': 698.0, 'x1': 459.0, 'y0': 1064.0, 'y1': 605.0}, {'class_name': 'Nodule/Mass', 'class_id': 8, 'x0': 649.0, 'x1': 869.0, 'y0': 833.0, 'y1': 1021.0}, {'class_name': 'Aortic enlargement', 'class_id': 0, 'x0': 1328.0, 'x1': 913.0, 'y0': 1603.0, 'y1': 1260.0}, {'class_name': 'Nodule/Mass', 'class_id': 8, 'x0': 660.0, 'x1': 899.0, 'y0': 812.0, 'y1': 1016.0}, {'class_name': 'Pulmonary fibrosis', 'class_id': 13, 'x0': 590.0, 'x1': 587.0, 'y0': 996.0, 'y1': 1035.0}, {'class_name': 'Pleural thickening', 'class_id': 11, 'x0': 1941.0, 'x1': 1896.0, 'y0': 2112.0, 'y1': 2103.0}, {'class_name': 'Lung Opacity', 'class_id': 7, 'x0': 452.0, 'x1': 1411.0, 'y0': 1046.0, 'y1': 1777.0}, {'class_name': 'Infiltration', 'class_id': 6, 'x0': 569.0, 'x1': 1463.0, 'y0': 951.0, 'y1': 1775.0}, {'class_name': 'Pleural thickening', 'class_id': 11, 'x0': 704.0, 'x1': 479.0, 'y0': 1081.0, 'y1': 580.0}, {'class_name': 'Infiltration', 'class_id': 6, 'x0': 603.0, 'x1': 723.0, 'y0': 990.0, 'y1': 1241.0}, {'class_name': 'Pleural effusion', 'class_id': 10, 'x0': 222.0, 'x1': 1658.0, 'y0': 390.0, 'y1': 1959.0}, {'class_name': 'Infiltration', 'class_id': 6, 'x0': 597.0, 'x1': 1445.0, 'y0': 933.0, 'y1': 1756.0}]}, {'image_id': '0622cd29e4e0e4f198abf15614819ae8', 'coords': [{'class_name': 'Cardiomegaly', 'class_id': 3, 'x0': 1044.0, 'x1': 1579.0, 'y0': 2098.0, 'y1': 1971.0}, {'class_name': 'Aortic enlargement', 'class_id': 0, 'x0': 1332.0, 'x1': 676.0, 'y0': 1699.0, 'y1': 1046.0}, {'class_name': 'Aortic enlargement', 'class_id': 0, 'x0': 1375.0, 'x1': 656.0, 'y0': 1685.0, 'y1': 977.0}, {'class_name': 'Aortic enlargement', 'class_id': 0, 'x0': 1356.0, 'x1': 648.0, 'y0': 1702.0, 'y1': 983.0}, {'class_name': 'Cardiomegaly', 'class_id': 3, 'x0': 1030.0, 'x1': 1400.0, 'y0': 2073.0, 'y1': 1922.0}, {'class_name': 'Cardiomegaly', 'class_id': 3, 'x0': 1012.0, 'x1': 1457.0, 'y0': 2086.0, 'y1': 1916.0}]}, {'image_id': '347180362348e522905047dde655b6d7', 'coords': [{'class_name': 'Pleural thickening', 'class_id': 11, 'x0': 1155.0, 'x1': 204.0, 'y0': 1414.0, 'y1': 268.0}, {'class_name': 'Pleural thickening', 'class_id': 11, 'x0': 646.0, 'x1': 198.0, 'y0': 855.0, 'y1': 245.0}, {'class_name': 'Aortic enlargement', 'class_id': 0, 'x0': 1091.0, 'x1': 542.0, 'y0': 1293.0, 'y1': 755.0}, {'class_name': 'Aortic enlargement', 'class_id': 0, 'x0': 1020.0, 'x1': 537.0, 'y0': 1296.0, 'y1': 778.0}, {'class_name': 'Aortic enlargement', 'class_id': 0, 'x0': 1084.0, 'x1': 547.0, 'y0': 1292.0, 'y1': 788.0}]}, {'image_id': '22b8e616a61bbc4caaed0cf23b7159df', 'coords': [{'class_name': 'Pulmonary fibrosis', 'class_id': 13, 'x0': 615.0, 'x1': 800.0, 'y0': 898.0, 'y1': 1107.0}, {'class_name': 'Pulmonary fibrosis', 'class_id': 13, 'x0': 582.0, 'x1': 674.0, 'y0': 1035.0, 'y1': 1155.0}, {'class_name': 'Pulmonary fibrosis', 'class_id': 13, 'x0': 567.0, 'x1': 679.0, 'y0': 916.0, 'y1': 1170.0}, {'class_name': 'Aortic enlargement', 'class_id': 0, 'x0': 1369.0, 'x1': 964.0, 'y0': 1625.0, 'y1': 1290.0}, {'class_name': 'Pleural thickening', 'class_id': 11, 'x0': 500.0, 'x1': 649.0, 'y0': 643.0, 'y1': 752.0}, {'class_name': 'Aortic enlargement', 'class_id': 0, 'x0': 1380.0, 'x1': 963.0, 'y0': 1620.0, 'y1': 1279.0}]}, {'image_id': 'c394eadea89e5795c8037280492d116d', 'coords': [{'class_name': 'Other lesion', 'class_id': 9, 'x0': 0.0, 'x1': 839.0, 'y0': 274.0, 'y1': 2168.0}, {'class_name': 'Other lesion', 'class_id': 9, 'x0': 556.0, 'x1': 3.0, 'y0': 978.0, 'y1': 595.0}, {'class_name': 'Other lesion', 'class_id': 9, 'x0': 251.0, 'x1': 936.0, 'y0': 999.0, 'y1': 1823.0}, {'class_name': 'Other lesion', 'class_id': 9, 'x0': 1251.0, 'x1': 59.0, 'y0': 1736.0, 'y1': 606.0}, {'class_name': 'Other lesion', 'class_id': 9, 'x0': 422.0, 'x1': 54.0, 'y0': 1760.0, 'y1': 579.0}, {'class_name': 'Lung Opacity', 'class_id': 7, 'x0': 296.0, 'x1': 760.0, 'y0': 1031.0, 'y1': 1885.0}, {'class_name': 'Other lesion', 'class_id': 9, 'x0': 17.0, 'x1': 902.0, 'y0': 216.0, 'y1': 2059.0}, {'class_name': 'Other lesion', 'class_id': 9, 'x0': 336.0, 'x1': 61.0, 'y0': 1953.0, 'y1': 687.0}, {'class_name': 'Pneumothorax', 'class_id': 12, 'x0': 275.0, 'x1': 624.0, 'y0': 1000.0, 'y1': 1952.0}, {'class_name': 'Other lesion', 'class_id': 9, 'x0': 11.0, 'x1': 684.0, 'y0': 308.0, 'y1': 2151.0}, {'class_name': 'Other lesion', 'class_id': 9, 'x0': 328.0, 'x1': 756.0, 'y0': 902.0, 'y1': 1754.0}]}, {'image_id': 'be1bb194dfb986bf7554b491852b8901', 'coords': [{'class_name': 'Lung Opacity', 'class_id': 7, 'x0': 2233.0, 'x1': 1536.0, 'y0': 2518.0, 'y1': 1827.0}, {'class_name': 'Infiltration', 'class_id': 6, 'x0': 2233.0, 'x1': 1536.0, 'y0': 2518.0, 'y1': 1827.0}, {'class_name': 'ILD', 'class_id': 5, 'x0': 692.0, 'x1': 1013.0, 'y0': 1256.0, 'y1': 1707.0}, {'class_name': 'Other lesion', 'class_id': 9, 'x0': 2233.0, 'x1': 1536.0, 'y0': 2518.0, 'y1': 1827.0}, {'class_name': 'Infiltration', 'class_id': 6, 'x0': 651.0, 'x1': 1128.0, 'y0': 1255.0, 'y1': 1741.0}, {'class_name': 'Cardiomegaly', 'class_id': 3, 'x0': 1106.0, 'x1': 1439.0, 'y0': 2289.0, 'y1': 1814.0}, {'class_name': 'Lung Opacity', 'class_id': 7, 'x0': 651.0, 'x1': 1128.0, 'y0': 1255.0, 'y1': 1741.0}, {'class_name': 'Cardiomegaly', 'class_id': 3, 'x0': 1152.0, 'x1': 1487.0, 'y0': 2345.0, 'y1': 1794.0}, {'class_name': 'Other lesion', 'class_id': 9, 'x0': 651.0, 'x1': 1128.0, 'y0': 1255.0, 'y1': 1741.0}]}, {'image_id': 'd7aea6f37597df566725da73655edcc2', 'coords': [{'class_name': 'Infiltration', 'class_id': 6, 'x0': 1768.0, 'x1': 1137.0, 'y0': 2346.0, 'y1': 2020.0}, {'class_name': 'Pleural thickening', 'class_id': 11, 'x0': 867.0, 'x1': 381.0, 'y0': 1160.0, 'y1': 488.0}, {'class_name': 'Pleural thickening', 'class_id': 11, 'x0': 1524.0, 'x1': 341.0, 'y0': 1963.0, 'y1': 563.0}, {'class_name': 'Infiltration', 'class_id': 6, 'x0': 315.0, 'x1': 900.0, 'y0': 859.0, 'y1': 2031.0}, {'class_name': 'Cardiomegaly', 'class_id': 3, 'x0': 743.0, 'x1': 1675.0, 'y0': 1960.0, 'y1': 2194.0}, {'class_name': 'Pleural effusion', 'class_id': 10, 'x0': 230.0, 'x1': 1839.0, 'y0': 745.0, 'y1': 2297.0}, {'class_name': 'Aortic enlargement', 'class_id': 0, 'x0': 1348.0, 'x1': 755.0, 'y0': 1787.0, 'y1': 1211.0}, {'class_name': 'Infiltration', 'class_id': 6, 'x0': 320.0, 'x1': 642.0, 'y0': 1212.0, 'y1': 2088.0}, {'class_name': 'Aortic enlargement', 'class_id': 0, 'x0': 1424.0, 'x1': 785.0, 'y0': 1793.0, 'y1': 1245.0}, {'class_name': 'Lung Opacity', 'class_id': 7, 'x0': 1703.0, 'x1': 1070.0, 'y0': 2315.0, 'y1': 2035.0}, {'class_name': 'Pleural thickening', 'class_id': 11, 'x0': 841.0, 'x1': 408.0, 'y0': 1236.0, 'y1': 510.0}, {'class_name': 'Infiltration', 'class_id': 6, 'x0': 1703.0, 'x1': 1070.0, 'y0': 2315.0, 'y1': 2035.0}, {'class_name': 'Pleural effusion', 'class_id': 10, 'x0': 268.0, 'x1': 1794.0, 'y0': 470.0, 'y1': 2213.0}, {'class_name': 'Consolidation', 'class_id': 4, 'x0': 341.0, 'x1': 843.0, 'y0': 752.0, 'y1': 2016.0}, {'class_name': 'Pleural effusion', 'class_id': 10, 'x0': 277.0, 'x1': 1690.0, 'y0': 1213.0, 'y1': 2314.0}, {'class_name': 'Cardiomegaly', 'class_id': 3, 'x0': 755.0, 'x1': 1545.0, 'y0': 1945.0, 'y1': 2244.0}, {'class_name': 'Lung Opacity', 'class_id': 7, 'x0': 315.0, 'x1': 900.0, 'y0': 859.0, 'y1': 2031.0}, {'class_name': 'Infiltration', 'class_id': 6, 'x0': 1683.0, 'x1': 998.0, 'y0': 2363.0, 'y1': 2174.0}, {'class_name': 'Pleural thickening', 'class_id': 11, 'x0': 1454.0, 'x1': 331.0, 'y0': 1997.0, 'y1': 488.0}, {'class_name': 'Lung Opacity', 'class_id': 7, 'x0': 898.0, 'x1': 859.0, 'y0': 1182.0, 'y1': 1524.0}]}, {'image_id': '8ae85268313b0db2f58d2193aab645c9', 'coords': [{'class_name': 'Other lesion', 'class_id': 9, 'x0': 1898.0, 'x1': 850.0, 'y0': 2401.0, 'y1': 2074.0}, {'class_name': 'ILD', 'class_id': 5, 'x0': 1898.0, 'x1': 850.0, 'y0': 2401.0, 'y1': 2074.0}, {'class_name': 'Pulmonary fibrosis', 'class_id': 13, 'x0': 778.0, 'x1': 871.0, 'y0': 1348.0, 'y1': 2018.0}, {'class_name': 'Pleural thickening', 'class_id': 11, 'x0': 2307.0, 'x1': 2228.0, 'y0': 2412.0, 'y1': 2400.0}, {'class_name': 'Pleural effusion', 'class_id': 10, 'x0': 2307.0, 'x1': 2228.0, 'y0': 2412.0, 'y1': 2400.0}, {'class_name': 'Pulmonary fibrosis', 'class_id': 13, 'x0': 1898.0, 'x1': 850.0, 'y0': 2401.0, 'y1': 2074.0}, {'class_name': 'ILD', 'class_id': 5, 'x0': 743.0, 'x1': 663.0, 'y0': 1363.0, 'y1': 2317.0}, {'class_name': 'Pleural thickening', 'class_id': 11, 'x0': 722.0, 'x1': 2326.0, 'y0': 858.0, 'y1': 2498.0}, {'class_name': 'ILD', 'class_id': 5, 'x0': 1753.0, 'x1': 527.0, 'y0': 2407.0, 'y1': 2208.0}, {'class_name': 'ILD', 'class_id': 5, 'x0': 778.0, 'x1': 871.0, 'y0': 1348.0, 'y1': 2018.0}, {'class_name': 'ILD', 'class_id': 5, 'x0': 735.0, 'x1': 630.0, 'y0': 1405.0, 'y1': 2366.0}, {'class_name': 'ILD', 'class_id': 5, 'x0': 1805.0, 'x1': 527.0, 'y0': 2397.0, 'y1': 2263.0}, {'class_name': 'Pleural effusion', 'class_id': 10, 'x0': 722.0, 'x1': 2326.0, 'y0': 858.0, 'y1': 2498.0}, {'class_name': 'Other lesion', 'class_id': 9, 'x0': 778.0, 'x1': 871.0, 'y0': 1348.0, 'y1': 2018.0}]}]\n"
     ]
    }
   ],
   "source": [
    "image_metadatas = []\n",
    "for id in unique_ids:\n",
    "    coords = []\n",
    "\n",
    "    df_f = df[df['image_id'] == id][['class_name', 'class_id', 'x_min', 'y_min', 'x_max', 'y_max', 'rad_id']]\n",
    "\n",
    "    for row in df_f.values:\n",
    "        coords.append({\n",
    "            'class_name': row[0],\n",
    "            'class_id': row[1],\n",
    "            'x0': row[2],\n",
    "            'x1': row[3],\n",
    "            'y0': row[4],\n",
    "            'y1': row[5],\n",
    "        })\n",
    "    \n",
    "    image_metadatas.append({\n",
    "        'image_id': id,\n",
    "        'coords': coords,\n",
    "    })"
   ]
  }
 ],
 "metadata": {
  "kernelspec": {
   "display_name": "cxr-cv",
   "language": "python",
   "name": "python3"
  },
  "language_info": {
   "codemirror_mode": {
    "name": "ipython",
    "version": 3
   },
   "file_extension": ".py",
   "mimetype": "text/x-python",
   "name": "python",
   "nbconvert_exporter": "python",
   "pygments_lexer": "ipython3",
   "version": "3.9.13"
  },
  "orig_nbformat": 4
 },
 "nbformat": 4,
 "nbformat_minor": 2
}
